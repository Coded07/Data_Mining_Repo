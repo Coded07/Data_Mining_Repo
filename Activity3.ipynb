{
 "cells": [
  {
   "cell_type": "markdown",
   "id": "b364afe4-8e47-4b54-9351-a2fd27e9006b",
   "metadata": {},
   "source": [
    "<h1> United Kingdom Road Accident Data Analysis </h1>\n",
    "\n",
    "<h4> Inclusive Year: 2019 - 2022</h4>"
   ]
  },
  {
   "cell_type": "code",
   "execution_count": 62,
   "id": "d537f1d0-5468-4894-8e50-2691c6a4a512",
   "metadata": {},
   "outputs": [],
   "source": [
    "import pandas as pd\n",
    "import numpy as np\n",
    "from scipy.stats import f_oneway\n",
    "import calendar\n",
    "import warnings\n",
    "warnings.filterwarnings(\"ignore\")"
   ]
  },
  {
   "cell_type": "code",
   "execution_count": 3,
   "id": "3ecee622-5b54-44e9-9914-17e29df4a230",
   "metadata": {},
   "outputs": [],
   "source": [
    "accident = pd.read_csv('dataset\\\\accident_data.csv')"
   ]
  },
  {
   "cell_type": "code",
   "execution_count": 4,
   "id": "5e768fc3-1734-4f29-b96f-c68cb0d2d59d",
   "metadata": {},
   "outputs": [
    {
     "data": {
      "text/html": [
       "<div>\n",
       "<style scoped>\n",
       "    .dataframe tbody tr th:only-of-type {\n",
       "        vertical-align: middle;\n",
       "    }\n",
       "\n",
       "    .dataframe tbody tr th {\n",
       "        vertical-align: top;\n",
       "    }\n",
       "\n",
       "    .dataframe thead th {\n",
       "        text-align: right;\n",
       "    }\n",
       "</style>\n",
       "<table border=\"1\" class=\"dataframe\">\n",
       "  <thead>\n",
       "    <tr style=\"text-align: right;\">\n",
       "      <th></th>\n",
       "      <th>Index</th>\n",
       "      <th>Accident_Severity</th>\n",
       "      <th>Accident Date</th>\n",
       "      <th>Latitude</th>\n",
       "      <th>Light_Conditions</th>\n",
       "      <th>District Area</th>\n",
       "      <th>Longitude</th>\n",
       "      <th>Number_of_Casualties</th>\n",
       "      <th>Number_of_Vehicles</th>\n",
       "      <th>Road_Surface_Conditions</th>\n",
       "      <th>Road_Type</th>\n",
       "      <th>Urban_or_Rural_Area</th>\n",
       "      <th>Weather_Conditions</th>\n",
       "      <th>Vehicle_Type</th>\n",
       "    </tr>\n",
       "  </thead>\n",
       "  <tbody>\n",
       "    <tr>\n",
       "      <th>0</th>\n",
       "      <td>200701BS64157</td>\n",
       "      <td>Serious</td>\n",
       "      <td>05/06/2019</td>\n",
       "      <td>51.506187</td>\n",
       "      <td>Darkness - lights lit</td>\n",
       "      <td>Kensington and Chelsea</td>\n",
       "      <td>-0.209082</td>\n",
       "      <td>1</td>\n",
       "      <td>2</td>\n",
       "      <td>Dry</td>\n",
       "      <td>Single carriageway</td>\n",
       "      <td>Urban</td>\n",
       "      <td>Fine no high winds</td>\n",
       "      <td>Car</td>\n",
       "    </tr>\n",
       "    <tr>\n",
       "      <th>1</th>\n",
       "      <td>200701BS65737</td>\n",
       "      <td>Serious</td>\n",
       "      <td>02/07/2019</td>\n",
       "      <td>51.495029</td>\n",
       "      <td>Daylight</td>\n",
       "      <td>Kensington and Chelsea</td>\n",
       "      <td>-0.173647</td>\n",
       "      <td>1</td>\n",
       "      <td>2</td>\n",
       "      <td>Wet or damp</td>\n",
       "      <td>Single carriageway</td>\n",
       "      <td>Urban</td>\n",
       "      <td>Raining no high winds</td>\n",
       "      <td>Car</td>\n",
       "    </tr>\n",
       "    <tr>\n",
       "      <th>2</th>\n",
       "      <td>200701BS66127</td>\n",
       "      <td>Serious</td>\n",
       "      <td>26/08/2019</td>\n",
       "      <td>51.517715</td>\n",
       "      <td>Darkness - lighting unknown</td>\n",
       "      <td>Kensington and Chelsea</td>\n",
       "      <td>-0.210215</td>\n",
       "      <td>1</td>\n",
       "      <td>3</td>\n",
       "      <td>Dry</td>\n",
       "      <td>NaN</td>\n",
       "      <td>Urban</td>\n",
       "      <td>NaN</td>\n",
       "      <td>Taxi/Private hire car</td>\n",
       "    </tr>\n",
       "    <tr>\n",
       "      <th>3</th>\n",
       "      <td>200701BS66128</td>\n",
       "      <td>Serious</td>\n",
       "      <td>16/08/2019</td>\n",
       "      <td>51.495478</td>\n",
       "      <td>Daylight</td>\n",
       "      <td>Kensington and Chelsea</td>\n",
       "      <td>-0.202731</td>\n",
       "      <td>1</td>\n",
       "      <td>4</td>\n",
       "      <td>Dry</td>\n",
       "      <td>Single carriageway</td>\n",
       "      <td>Urban</td>\n",
       "      <td>Fine no high winds</td>\n",
       "      <td>Bus or coach (17 or more pass seats)</td>\n",
       "    </tr>\n",
       "    <tr>\n",
       "      <th>4</th>\n",
       "      <td>200701BS66837</td>\n",
       "      <td>Slight</td>\n",
       "      <td>03/09/2019</td>\n",
       "      <td>51.488576</td>\n",
       "      <td>Darkness - lights lit</td>\n",
       "      <td>Kensington and Chelsea</td>\n",
       "      <td>-0.192487</td>\n",
       "      <td>1</td>\n",
       "      <td>2</td>\n",
       "      <td>Dry</td>\n",
       "      <td>NaN</td>\n",
       "      <td>Urban</td>\n",
       "      <td>NaN</td>\n",
       "      <td>Other vehicle</td>\n",
       "    </tr>\n",
       "    <tr>\n",
       "      <th>...</th>\n",
       "      <td>...</td>\n",
       "      <td>...</td>\n",
       "      <td>...</td>\n",
       "      <td>...</td>\n",
       "      <td>...</td>\n",
       "      <td>...</td>\n",
       "      <td>...</td>\n",
       "      <td>...</td>\n",
       "      <td>...</td>\n",
       "      <td>...</td>\n",
       "      <td>...</td>\n",
       "      <td>...</td>\n",
       "      <td>...</td>\n",
       "      <td>...</td>\n",
       "    </tr>\n",
       "    <tr>\n",
       "      <th>660674</th>\n",
       "      <td>201091NM01760</td>\n",
       "      <td>Slight</td>\n",
       "      <td>18/02/2022</td>\n",
       "      <td>57.374005</td>\n",
       "      <td>Daylight</td>\n",
       "      <td>Highland</td>\n",
       "      <td>-3.467828</td>\n",
       "      <td>2</td>\n",
       "      <td>1</td>\n",
       "      <td>Dry</td>\n",
       "      <td>Single carriageway</td>\n",
       "      <td>Rural</td>\n",
       "      <td>Fine no high winds</td>\n",
       "      <td>Car</td>\n",
       "    </tr>\n",
       "    <tr>\n",
       "      <th>660675</th>\n",
       "      <td>201091NM01881</td>\n",
       "      <td>Slight</td>\n",
       "      <td>21/02/2022</td>\n",
       "      <td>57.232273</td>\n",
       "      <td>Darkness - no lighting</td>\n",
       "      <td>Highland</td>\n",
       "      <td>-3.809281</td>\n",
       "      <td>1</td>\n",
       "      <td>1</td>\n",
       "      <td>Frost or ice</td>\n",
       "      <td>Single carriageway</td>\n",
       "      <td>Rural</td>\n",
       "      <td>Fine no high winds</td>\n",
       "      <td>Car</td>\n",
       "    </tr>\n",
       "    <tr>\n",
       "      <th>660676</th>\n",
       "      <td>201091NM01935</td>\n",
       "      <td>Slight</td>\n",
       "      <td>23/02/2022</td>\n",
       "      <td>57.585044</td>\n",
       "      <td>Daylight</td>\n",
       "      <td>Highland</td>\n",
       "      <td>-3.862727</td>\n",
       "      <td>1</td>\n",
       "      <td>3</td>\n",
       "      <td>Frost or ice</td>\n",
       "      <td>Single carriageway</td>\n",
       "      <td>Rural</td>\n",
       "      <td>Fine no high winds</td>\n",
       "      <td>Car</td>\n",
       "    </tr>\n",
       "    <tr>\n",
       "      <th>660677</th>\n",
       "      <td>201091NM01964</td>\n",
       "      <td>Serious</td>\n",
       "      <td>23/02/2022</td>\n",
       "      <td>57.214898</td>\n",
       "      <td>Darkness - no lighting</td>\n",
       "      <td>Highland</td>\n",
       "      <td>-3.823997</td>\n",
       "      <td>1</td>\n",
       "      <td>2</td>\n",
       "      <td>Wet or damp</td>\n",
       "      <td>Single carriageway</td>\n",
       "      <td>Rural</td>\n",
       "      <td>Fine no high winds</td>\n",
       "      <td>Motorcycle over 500cc</td>\n",
       "    </tr>\n",
       "    <tr>\n",
       "      <th>660678</th>\n",
       "      <td>201091NM02142</td>\n",
       "      <td>Serious</td>\n",
       "      <td>28/02/2022</td>\n",
       "      <td>57.575210</td>\n",
       "      <td>Daylight</td>\n",
       "      <td>Highland</td>\n",
       "      <td>-3.895673</td>\n",
       "      <td>1</td>\n",
       "      <td>1</td>\n",
       "      <td>Wet or damp</td>\n",
       "      <td>Dual carriageway</td>\n",
       "      <td>Rural</td>\n",
       "      <td>Snowing no high winds</td>\n",
       "      <td>Car</td>\n",
       "    </tr>\n",
       "  </tbody>\n",
       "</table>\n",
       "<p>660679 rows × 14 columns</p>\n",
       "</div>"
      ],
      "text/plain": [
       "                Index Accident_Severity Accident Date   Latitude  \\\n",
       "0       200701BS64157           Serious    05/06/2019  51.506187   \n",
       "1       200701BS65737           Serious    02/07/2019  51.495029   \n",
       "2       200701BS66127           Serious    26/08/2019  51.517715   \n",
       "3       200701BS66128           Serious    16/08/2019  51.495478   \n",
       "4       200701BS66837            Slight    03/09/2019  51.488576   \n",
       "...               ...               ...           ...        ...   \n",
       "660674  201091NM01760            Slight    18/02/2022  57.374005   \n",
       "660675  201091NM01881            Slight    21/02/2022  57.232273   \n",
       "660676  201091NM01935            Slight    23/02/2022  57.585044   \n",
       "660677  201091NM01964           Serious    23/02/2022  57.214898   \n",
       "660678  201091NM02142           Serious    28/02/2022  57.575210   \n",
       "\n",
       "                   Light_Conditions           District Area  Longitude  \\\n",
       "0             Darkness - lights lit  Kensington and Chelsea  -0.209082   \n",
       "1                          Daylight  Kensington and Chelsea  -0.173647   \n",
       "2       Darkness - lighting unknown  Kensington and Chelsea  -0.210215   \n",
       "3                          Daylight  Kensington and Chelsea  -0.202731   \n",
       "4             Darkness - lights lit  Kensington and Chelsea  -0.192487   \n",
       "...                             ...                     ...        ...   \n",
       "660674                     Daylight                Highland  -3.467828   \n",
       "660675       Darkness - no lighting                Highland  -3.809281   \n",
       "660676                     Daylight                Highland  -3.862727   \n",
       "660677       Darkness - no lighting                Highland  -3.823997   \n",
       "660678                     Daylight                Highland  -3.895673   \n",
       "\n",
       "        Number_of_Casualties  Number_of_Vehicles Road_Surface_Conditions  \\\n",
       "0                          1                   2                     Dry   \n",
       "1                          1                   2             Wet or damp   \n",
       "2                          1                   3                     Dry   \n",
       "3                          1                   4                     Dry   \n",
       "4                          1                   2                     Dry   \n",
       "...                      ...                 ...                     ...   \n",
       "660674                     2                   1                     Dry   \n",
       "660675                     1                   1            Frost or ice   \n",
       "660676                     1                   3            Frost or ice   \n",
       "660677                     1                   2             Wet or damp   \n",
       "660678                     1                   1             Wet or damp   \n",
       "\n",
       "                 Road_Type Urban_or_Rural_Area     Weather_Conditions  \\\n",
       "0       Single carriageway               Urban     Fine no high winds   \n",
       "1       Single carriageway               Urban  Raining no high winds   \n",
       "2                      NaN               Urban                    NaN   \n",
       "3       Single carriageway               Urban     Fine no high winds   \n",
       "4                      NaN               Urban                    NaN   \n",
       "...                    ...                 ...                    ...   \n",
       "660674  Single carriageway               Rural     Fine no high winds   \n",
       "660675  Single carriageway               Rural     Fine no high winds   \n",
       "660676  Single carriageway               Rural     Fine no high winds   \n",
       "660677  Single carriageway               Rural     Fine no high winds   \n",
       "660678    Dual carriageway               Rural  Snowing no high winds   \n",
       "\n",
       "                                Vehicle_Type  \n",
       "0                                        Car  \n",
       "1                                        Car  \n",
       "2                      Taxi/Private hire car  \n",
       "3       Bus or coach (17 or more pass seats)  \n",
       "4                              Other vehicle  \n",
       "...                                      ...  \n",
       "660674                                   Car  \n",
       "660675                                   Car  \n",
       "660676                                   Car  \n",
       "660677                 Motorcycle over 500cc  \n",
       "660678                                   Car  \n",
       "\n",
       "[660679 rows x 14 columns]"
      ]
     },
     "execution_count": 4,
     "metadata": {},
     "output_type": "execute_result"
    }
   ],
   "source": [
    "accident"
   ]
  },
  {
   "cell_type": "code",
   "execution_count": 5,
   "id": "c7747728-0335-44b4-ad07-c926a7f8c075",
   "metadata": {},
   "outputs": [
    {
     "name": "stdout",
     "output_type": "stream",
     "text": [
      "<class 'pandas.core.frame.DataFrame'>\n",
      "RangeIndex: 660679 entries, 0 to 660678\n",
      "Data columns (total 14 columns):\n",
      " #   Column                   Non-Null Count   Dtype  \n",
      "---  ------                   --------------   -----  \n",
      " 0   Index                    660679 non-null  object \n",
      " 1   Accident_Severity        660679 non-null  object \n",
      " 2   Accident Date            660679 non-null  object \n",
      " 3   Latitude                 660654 non-null  float64\n",
      " 4   Light_Conditions         660679 non-null  object \n",
      " 5   District Area            660679 non-null  object \n",
      " 6   Longitude                660653 non-null  float64\n",
      " 7   Number_of_Casualties     660679 non-null  int64  \n",
      " 8   Number_of_Vehicles       660679 non-null  int64  \n",
      " 9   Road_Surface_Conditions  659953 non-null  object \n",
      " 10  Road_Type                656159 non-null  object \n",
      " 11  Urban_or_Rural_Area      660664 non-null  object \n",
      " 12  Weather_Conditions       646551 non-null  object \n",
      " 13  Vehicle_Type             660679 non-null  object \n",
      "dtypes: float64(2), int64(2), object(10)\n",
      "memory usage: 70.6+ MB\n"
     ]
    }
   ],
   "source": [
    "accident.info()"
   ]
  },
  {
   "cell_type": "code",
   "execution_count": 6,
   "id": "9dbc08a6-4de5-4596-b947-59abd4104d24",
   "metadata": {},
   "outputs": [
    {
     "data": {
      "text/plain": [
       "Index                       object\n",
       "Accident_Severity           object\n",
       "Accident Date               object\n",
       "Latitude                   float64\n",
       "Light_Conditions            object\n",
       "District Area               object\n",
       "Longitude                  float64\n",
       "Number_of_Casualties         int64\n",
       "Number_of_Vehicles           int64\n",
       "Road_Surface_Conditions     object\n",
       "Road_Type                   object\n",
       "Urban_or_Rural_Area         object\n",
       "Weather_Conditions          object\n",
       "Vehicle_Type                object\n",
       "dtype: object"
      ]
     },
     "execution_count": 6,
     "metadata": {},
     "output_type": "execute_result"
    }
   ],
   "source": [
    "accident.dtypes"
   ]
  },
  {
   "cell_type": "markdown",
   "id": "f235f080-ee08-447a-8046-4397a9add262",
   "metadata": {},
   "source": [
    "<h3> Changing Dtypes </h3>"
   ]
  },
  {
   "cell_type": "code",
   "execution_count": 7,
   "id": "a32d2c62-f972-4122-b289-b1db3bf371cc",
   "metadata": {},
   "outputs": [],
   "source": [
    "accident['Accident_Severity'] = accident['Accident_Severity'].astype('category')"
   ]
  },
  {
   "cell_type": "code",
   "execution_count": 8,
   "id": "36267435-33be-4441-9db4-d19b8d5353b8",
   "metadata": {},
   "outputs": [
    {
     "data": {
      "text/plain": [
       "Accident_Severity\n",
       "Slight     563801\n",
       "Serious     88217\n",
       "Fatal        8661\n",
       "Name: count, dtype: int64"
      ]
     },
     "execution_count": 8,
     "metadata": {},
     "output_type": "execute_result"
    }
   ],
   "source": [
    "accident['Accident_Severity'].value_counts()"
   ]
  },
  {
   "cell_type": "code",
   "execution_count": 9,
   "id": "471dbfd8-e2ce-4c4d-a5fe-22bad32e284c",
   "metadata": {},
   "outputs": [
    {
     "data": {
      "text/plain": [
       "Index                        object\n",
       "Accident_Severity          category\n",
       "Accident Date                object\n",
       "Latitude                    float64\n",
       "Light_Conditions             object\n",
       "District Area                object\n",
       "Longitude                   float64\n",
       "Number_of_Casualties          int64\n",
       "Number_of_Vehicles            int64\n",
       "Road_Surface_Conditions      object\n",
       "Road_Type                    object\n",
       "Urban_or_Rural_Area          object\n",
       "Weather_Conditions           object\n",
       "Vehicle_Type                 object\n",
       "dtype: object"
      ]
     },
     "execution_count": 9,
     "metadata": {},
     "output_type": "execute_result"
    }
   ],
   "source": [
    "accident.dtypes"
   ]
  },
  {
   "cell_type": "markdown",
   "id": "8cc5d46a-23f0-4a7b-bf16-aec93328e6f7",
   "metadata": {},
   "source": [
    "<h1> Converting Object To Datetime Data Type </h1>"
   ]
  },
  {
   "cell_type": "code",
   "execution_count": 10,
   "id": "5388c9c7-d74d-4dad-9115-e7900a6db93e",
   "metadata": {},
   "outputs": [],
   "source": [
    "accident['Accident Date'] = pd.to_datetime(accident['Accident Date'], dayfirst = True, errors = 'coerce')"
   ]
  },
  {
   "cell_type": "code",
   "execution_count": 11,
   "id": "5a062cdd-9441-4ed8-b324-921572239d94",
   "metadata": {},
   "outputs": [
    {
     "data": {
      "text/plain": [
       "Index                              object\n",
       "Accident_Severity                category\n",
       "Accident Date              datetime64[ns]\n",
       "Latitude                          float64\n",
       "Light_Conditions                   object\n",
       "District Area                      object\n",
       "Longitude                         float64\n",
       "Number_of_Casualties                int64\n",
       "Number_of_Vehicles                  int64\n",
       "Road_Surface_Conditions            object\n",
       "Road_Type                          object\n",
       "Urban_or_Rural_Area                object\n",
       "Weather_Conditions                 object\n",
       "Vehicle_Type                       object\n",
       "dtype: object"
      ]
     },
     "execution_count": 11,
     "metadata": {},
     "output_type": "execute_result"
    }
   ],
   "source": [
    "accident.dtypes"
   ]
  },
  {
   "cell_type": "code",
   "execution_count": 12,
   "id": "44110ee9-3036-4192-87b3-bafdb01151f7",
   "metadata": {},
   "outputs": [
    {
     "data": {
      "text/plain": [
       "0        2019-06-05\n",
       "1        2019-07-02\n",
       "2        2019-08-26\n",
       "3        2019-08-16\n",
       "4        2019-09-03\n",
       "            ...    \n",
       "660674   2022-02-18\n",
       "660675   2022-02-21\n",
       "660676   2022-02-23\n",
       "660677   2022-02-23\n",
       "660678   2022-02-28\n",
       "Name: Accident Date, Length: 660679, dtype: datetime64[ns]"
      ]
     },
     "execution_count": 12,
     "metadata": {},
     "output_type": "execute_result"
    }
   ],
   "source": [
    "accident['Accident Date']"
   ]
  },
  {
   "cell_type": "markdown",
   "id": "31eb6ca6-c4ae-4e83-8046-2208af0ff9bd",
   "metadata": {},
   "source": [
    "<h1> Filling Up Null Values </h1>"
   ]
  },
  {
   "cell_type": "code",
   "execution_count": 13,
   "id": "31ef6468-03f2-4b7e-b030-6334a06d8878",
   "metadata": {
    "scrolled": true
   },
   "outputs": [
    {
     "data": {
      "text/plain": [
       "Index                          0\n",
       "Accident_Severity              0\n",
       "Accident Date                  0\n",
       "Latitude                      25\n",
       "Light_Conditions               0\n",
       "District Area                  0\n",
       "Longitude                     26\n",
       "Number_of_Casualties           0\n",
       "Number_of_Vehicles             0\n",
       "Road_Surface_Conditions      726\n",
       "Road_Type                   4520\n",
       "Urban_or_Rural_Area           15\n",
       "Weather_Conditions         14128\n",
       "Vehicle_Type                   0\n",
       "dtype: int64"
      ]
     },
     "execution_count": 13,
     "metadata": {},
     "output_type": "execute_result"
    }
   ],
   "source": [
    "accident.isnull().sum()"
   ]
  },
  {
   "cell_type": "code",
   "execution_count": null,
   "id": "0e7b096d-2c22-4989-a14e-624dec1af372",
   "metadata": {},
   "outputs": [],
   "source": []
  },
  {
   "cell_type": "code",
   "execution_count": 14,
   "id": "deebe7ba-2263-4563-9ad1-b09b8e187075",
   "metadata": {},
   "outputs": [],
   "source": [
    "accident['Latitude'] = accident['Latitude'].fillna(accident['Latitude'].mode()[0])\n",
    "accident['Longitude'] = accident['Latitude'].fillna(accident['Latitude'].mode()[0])\n",
    "accident['Road_Surface_Conditions'] = accident['Road_Surface_Conditions'].fillna('unknown surface condition')\n",
    "accident['Road_Type'] = accident['Road_Type'].fillna('unaccounted')\n",
    "accident['Urban_or_Rural_Area'] = accident['Urban_or_Rural_Area'].fillna(accident['Urban_or_Rural_Area'].mode()[0])\n",
    "accident['Weather_Conditions'] = accident['Weather_Conditions'].fillna('unaccounted weather condition')"
   ]
  },
  {
   "cell_type": "code",
   "execution_count": 15,
   "id": "1b028c79-258e-4f96-ad9e-2106aae5c87d",
   "metadata": {},
   "outputs": [
    {
     "data": {
      "text/plain": [
       "Index                      0\n",
       "Accident_Severity          0\n",
       "Accident Date              0\n",
       "Latitude                   0\n",
       "Light_Conditions           0\n",
       "District Area              0\n",
       "Longitude                  0\n",
       "Number_of_Casualties       0\n",
       "Number_of_Vehicles         0\n",
       "Road_Surface_Conditions    0\n",
       "Road_Type                  0\n",
       "Urban_or_Rural_Area        0\n",
       "Weather_Conditions         0\n",
       "Vehicle_Type               0\n",
       "dtype: int64"
      ]
     },
     "execution_count": 15,
     "metadata": {},
     "output_type": "execute_result"
    }
   ],
   "source": [
    "accident.isnull().sum()"
   ]
  },
  {
   "cell_type": "markdown",
   "id": "a4c0286d-f7c4-465c-96bb-b28ba519321b",
   "metadata": {},
   "source": [
    "<h1> Changing Data Types </h1>"
   ]
  },
  {
   "cell_type": "code",
   "execution_count": 16,
   "id": "69f694e3-54ab-4c4a-bda6-fca201c986b2",
   "metadata": {},
   "outputs": [
    {
     "data": {
      "text/plain": [
       "Index                              object\n",
       "Accident_Severity                category\n",
       "Accident Date              datetime64[ns]\n",
       "Latitude                          float64\n",
       "Light_Conditions                   object\n",
       "District Area                      object\n",
       "Longitude                         float64\n",
       "Number_of_Casualties                int64\n",
       "Number_of_Vehicles                  int64\n",
       "Road_Surface_Conditions            object\n",
       "Road_Type                          object\n",
       "Urban_or_Rural_Area                object\n",
       "Weather_Conditions                 object\n",
       "Vehicle_Type                       object\n",
       "dtype: object"
      ]
     },
     "execution_count": 16,
     "metadata": {},
     "output_type": "execute_result"
    }
   ],
   "source": [
    "accident.dtypes"
   ]
  },
  {
   "cell_type": "code",
   "execution_count": 17,
   "id": "ebf2bdca-f044-498b-aebf-a887f7b2e48d",
   "metadata": {},
   "outputs": [],
   "source": [
    "accident['Latitude'] = accident['Latitude'].astype('category')\n",
    "accident['Light_Conditions'] = accident['Light_Conditions'].astype('category')\n",
    "accident['District Area'] = accident['District Area'].astype('category')\n",
    "accident['Longitude'] = accident['Latitude'].astype('category')\n",
    "accident['Road_Surface_Conditions'] = accident['Road_Surface_Conditions'].astype('category')\n",
    "accident['Road_Type'] = accident['Road_Type'].astype('category')\n",
    "accident['Urban_or_Rural_Area'] = accident['Urban_or_Rural_Area'].astype('category')\n",
    "accident['Weather_Conditions'] = accident['Weather_Conditions'].astype('category')\n",
    "accident['Vehicle_Type'] = accident['Vehicle_Type'].astype('category')"
   ]
  },
  {
   "cell_type": "code",
   "execution_count": 18,
   "id": "f7927ee5-97fb-4924-8fe4-0f70ddd1e7cf",
   "metadata": {
    "scrolled": true
   },
   "outputs": [
    {
     "data": {
      "text/plain": [
       "Index                              object\n",
       "Accident_Severity                category\n",
       "Accident Date              datetime64[ns]\n",
       "Latitude                         category\n",
       "Light_Conditions                 category\n",
       "District Area                    category\n",
       "Longitude                        category\n",
       "Number_of_Casualties                int64\n",
       "Number_of_Vehicles                  int64\n",
       "Road_Surface_Conditions          category\n",
       "Road_Type                        category\n",
       "Urban_or_Rural_Area              category\n",
       "Weather_Conditions               category\n",
       "Vehicle_Type                     category\n",
       "dtype: object"
      ]
     },
     "execution_count": 18,
     "metadata": {},
     "output_type": "execute_result"
    }
   ],
   "source": [
    "accident.dtypes"
   ]
  },
  {
   "cell_type": "markdown",
   "id": "42d302a6-c33b-432f-9c44-4f84366d2db5",
   "metadata": {},
   "source": [
    "<h1> Extracting Date Information </h1>"
   ]
  },
  {
   "cell_type": "code",
   "execution_count": 19,
   "id": "83b80782-7b8d-40af-9447-988f119acebe",
   "metadata": {},
   "outputs": [],
   "source": [
    "accident['Year'] = accident['Accident Date'].dt.year\n",
    "accident['Month'] = accident['Accident Date'].dt.month\n",
    "accident['Day'] = accident['Accident Date'].dt.day\n",
    "accident['Day Of Week'] = accident['Accident Date'].dt.dayofweek # Monday = 0, Sunday = 6"
   ]
  },
  {
   "cell_type": "code",
   "execution_count": 20,
   "id": "b663e0b5-6e61-402e-b456-4dc5c204d510",
   "metadata": {
    "scrolled": true
   },
   "outputs": [
    {
     "data": {
      "text/plain": [
       "Index                      0\n",
       "Accident_Severity          0\n",
       "Accident Date              0\n",
       "Latitude                   0\n",
       "Light_Conditions           0\n",
       "District Area              0\n",
       "Longitude                  0\n",
       "Number_of_Casualties       0\n",
       "Number_of_Vehicles         0\n",
       "Road_Surface_Conditions    0\n",
       "Road_Type                  0\n",
       "Urban_or_Rural_Area        0\n",
       "Weather_Conditions         0\n",
       "Vehicle_Type               0\n",
       "Year                       0\n",
       "Month                      0\n",
       "Day                        0\n",
       "Day Of Week                0\n",
       "dtype: int64"
      ]
     },
     "execution_count": 20,
     "metadata": {},
     "output_type": "execute_result"
    }
   ],
   "source": [
    "accident.isnull().sum()"
   ]
  },
  {
   "cell_type": "markdown",
   "id": "fb72832f-0f4b-4f44-8969-bc4301ee6592",
   "metadata": {},
   "source": [
    "<h1>  Creating A New Dataframe For Each Year </h1>"
   ]
  },
  {
   "cell_type": "code",
   "execution_count": 21,
   "id": "63dd8dcd-f5c2-4927-9dcd-89dbcc1baa44",
   "metadata": {},
   "outputs": [],
   "source": [
    "accident_2019 = accident[accident['Year'] == 2019]\n",
    "accident_2020 = accident[accident['Year'] == 2020]\n",
    "accident_2021 = accident[accident['Year'] == 2021]\n",
    "accident_2022 = accident[accident['Year'] == 2022]"
   ]
  },
  {
   "cell_type": "markdown",
   "id": "ef28e65d-65f7-462a-945c-ff2cff5eea63",
   "metadata": {},
   "source": [
    "<h1> Univariate </h1>"
   ]
  },
  {
   "cell_type": "markdown",
   "id": "3f750b76-7151-4d47-ba12-51197430e46a",
   "metadata": {},
   "source": [
    "<h2> Analysis From 2019 </h2>"
   ]
  },
  {
   "cell_type": "markdown",
   "id": "ee00a711-2f9b-4dd2-8ea5-056ef820925f",
   "metadata": {},
   "source": [
    "<h1> 1. In the Year 2019 how many accidents happened in a Dual Carriageway? </h1>"
   ]
  },
  {
   "cell_type": "code",
   "execution_count": 22,
   "id": "4d481c9c-1f45-4049-b677-d47432839e58",
   "metadata": {},
   "outputs": [],
   "source": [
    "accident_dual = accident_2019[accident_2019['Road_Type'] == 'Dual carriageway']"
   ]
  },
  {
   "cell_type": "code",
   "execution_count": 23,
   "id": "fcef7708-5e42-4c45-8704-007b56f176a1",
   "metadata": {},
   "outputs": [
    {
     "data": {
      "text/plain": [
       "np.int64(182115)"
      ]
     },
     "execution_count": 23,
     "metadata": {},
     "output_type": "execute_result"
    }
   ],
   "source": [
    "accident_2019['Road_Type'].value_counts().sum()"
   ]
  },
  {
   "cell_type": "code",
   "execution_count": 24,
   "id": "f40ab564-fdf6-4880-b280-813a09401daf",
   "metadata": {},
   "outputs": [
    {
     "data": {
      "text/plain": [
       "np.int64(28162)"
      ]
     },
     "execution_count": 24,
     "metadata": {},
     "output_type": "execute_result"
    }
   ],
   "source": [
    "accident_dual.value_counts().sum()"
   ]
  },
  {
   "cell_type": "markdown",
   "id": "1ab2f978-fd06-4878-8c32-fb2ef108577a",
   "metadata": {},
   "source": [
    "<h2> Insight 1 </h2>\n",
    "\n",
    "<h4> There are 28162 accidents that happened in a dual carriageway road type, that constitute to 15.46% of the total accidents in 2019</h4>\n",
    "\n",
    "<p>━━━━━━━━━━━━━━━━━━━━━━━━━━━━━━━━━━━━━━━━━━━━━━━━━━━━━━━━━━━━━━━━━━━━━━━━━━━━━━━━━━━━━</p>"
   ]
  },
  {
   "cell_type": "markdown",
   "id": "3a6eca0d-a5ce-4971-be5e-f9178c0b2d91",
   "metadata": {},
   "source": [
    "<h1> 2. In the Year 2019 how many accidents happened under weather conditions? </h1>"
   ]
  },
  {
   "cell_type": "code",
   "execution_count": 25,
   "id": "c47996f7-754f-4c59-8de2-8d5cb860e77e",
   "metadata": {},
   "outputs": [
    {
     "data": {
      "text/plain": [
       "np.int64(182115)"
      ]
     },
     "execution_count": 25,
     "metadata": {},
     "output_type": "execute_result"
    }
   ],
   "source": [
    "accident_2019['Weather_Conditions'].value_counts().sum()"
   ]
  },
  {
   "cell_type": "markdown",
   "id": "48eef936-098c-4bff-942a-fb9f9d6d11f4",
   "metadata": {},
   "source": [
    "<h2> Insight 2 </h2>\n",
    "\n",
    "<h4> There are 182115 accidents that happened under weather conditions </h4>\n",
    "\n",
    "<p>━━━━━━━━━━━━━━━━━━━━━━━━━━━━━━━━━━━━━━━━━━━━━━━━━━━━━━━━━━━━━━━━━━━━━━━━━━━━━━━━━━━━━</p>"
   ]
  },
  {
   "cell_type": "markdown",
   "id": "dc05b001-cbe2-4677-809c-83fb79f0550f",
   "metadata": {},
   "source": [
    "<h1> 3. In the Year 2019 what is the weather conditions that has more accidents? </h1>"
   ]
  },
  {
   "cell_type": "code",
   "execution_count": 26,
   "id": "7bd8fa95-8f21-4e4a-a933-b50848acf2f6",
   "metadata": {
    "scrolled": true
   },
   "outputs": [
    {
     "data": {
      "text/plain": [
       "Weather_Conditions\n",
       "Fine no high winds               143876\n",
       "Raining no high winds             22835\n",
       "unaccounted weather condition      4134\n",
       "Other                              4083\n",
       "Raining + high winds               2959\n",
       "Fine + high winds                  2545\n",
       "Fog or mist                         857\n",
       "Snowing no high winds               680\n",
       "Snowing + high winds                146\n",
       "Name: count, dtype: int64"
      ]
     },
     "execution_count": 26,
     "metadata": {},
     "output_type": "execute_result"
    }
   ],
   "source": [
    "accident_2019['Weather_Conditions'].value_counts()"
   ]
  },
  {
   "cell_type": "markdown",
   "id": "51a5944b-84bb-45b1-ba3f-f1e1374f8068",
   "metadata": {},
   "source": [
    "<h2> Insight 3</h2>\n",
    "\n",
    "<h4> The weather conditions that has more accidents is \"Fine no High Winds\" with 79% of the total accidents of all weather conditions </h4>\n",
    "\n",
    "<p>━━━━━━━━━━━━━━━━━━━━━━━━━━━━━━━━━━━━━━━━━━━━━━━━━━━━━━━━━━━━━━━━━━━━━━━━━━━━━━━━━━━━━</p>"
   ]
  },
  {
   "cell_type": "markdown",
   "id": "826eb8b3-4a23-4ab1-bba7-5c865dac4d48",
   "metadata": {},
   "source": [
    "<h2> Analysis From 2020 </h2>"
   ]
  },
  {
   "cell_type": "markdown",
   "id": "ed218c4b-f33f-4789-bf65-e09e345b6a78",
   "metadata": {},
   "source": [
    "<h1> 4. In the Year 2020 what is the total of accidents? </h1>"
   ]
  },
  {
   "cell_type": "code",
   "execution_count": 27,
   "id": "02187442-8e4e-40a3-b24b-0b99538ed128",
   "metadata": {},
   "outputs": [
    {
     "data": {
      "text/plain": [
       "np.int64(170591)"
      ]
     },
     "execution_count": 27,
     "metadata": {},
     "output_type": "execute_result"
    }
   ],
   "source": [
    "accident_2020.value_counts().sum()"
   ]
  },
  {
   "cell_type": "markdown",
   "id": "cb995920-0a34-45fb-81b1-4033ea733e2a",
   "metadata": {},
   "source": [
    "<h2> Insight 4</h2>\n",
    "\n",
    "<h4> There are 170591 accidents that happened in the year 2020 </h4>\n",
    "\n",
    "<p>━━━━━━━━━━━━━━━━━━━━━━━━━━━━━━━━━━━━━━━━━━━━━━━━━━━━━━━━━━━━━━━━━━━━━━━━━━━━━━━━━━━━━</p>"
   ]
  },
  {
   "cell_type": "markdown",
   "id": "468c7335-3b07-4784-857e-92237310f8e5",
   "metadata": {},
   "source": [
    "<h1> 5. In the Year 2020 what road surface conditions is has the most accidents? </h1>"
   ]
  },
  {
   "cell_type": "code",
   "execution_count": 28,
   "id": "65417479-3fea-4995-8262-5c13ccbfb6c2",
   "metadata": {},
   "outputs": [
    {
     "data": {
      "text/plain": [
       "Road_Surface_Conditions\n",
       "Dry                          113506\n",
       "Wet or damp                   52076\n",
       "Frost or ice                   3870\n",
       "Snow                            598\n",
       "Flood over 3cm. deep            331\n",
       "unknown surface condition       210\n",
       "Name: count, dtype: int64"
      ]
     },
     "execution_count": 28,
     "metadata": {},
     "output_type": "execute_result"
    }
   ],
   "source": [
    "accident_2020['Road_Surface_Conditions'].value_counts()"
   ]
  },
  {
   "cell_type": "markdown",
   "id": "5ac9487e-d639-4e7e-b1fa-5fb633079c8a",
   "metadata": {},
   "source": [
    "<h2> Insight 5</h2>\n",
    "\n",
    "<h4> The road surface condition that has the most accidents is \"Dry\" with a 113506 total of accidents, making up 66.53% of the total accidents in 2020 </h4>\n",
    "\n",
    "<p>━━━━━━━━━━━━━━━━━━━━━━━━━━━━━━━━━━━━━━━━━━━━━━━━━━━━━━━━━━━━━━━━━━━━━━━━━━━━━━━━━━━━━</p>"
   ]
  },
  {
   "cell_type": "markdown",
   "id": "95410ff4-85f6-4a20-832e-1df9ce54840a",
   "metadata": {},
   "source": [
    "<h2> Analysis From 2021 </h2>"
   ]
  },
  {
   "cell_type": "markdown",
   "id": "1373fadd-05b5-422f-9548-41b7a5380d7e",
   "metadata": {},
   "source": [
    "<h1> 6. In 2021 what area is has more accident Urban or Rural area?</h1>"
   ]
  },
  {
   "cell_type": "code",
   "execution_count": 29,
   "id": "4c3d7382-43b3-4370-9ba6-59e87da70870",
   "metadata": {
    "scrolled": true
   },
   "outputs": [
    {
     "data": {
      "text/plain": [
       "Urban_or_Rural_Area\n",
       "Urban          104538\n",
       "Rural           59016\n",
       "Unallocated         0\n",
       "Name: count, dtype: int64"
      ]
     },
     "execution_count": 29,
     "metadata": {},
     "output_type": "execute_result"
    }
   ],
   "source": [
    "accident_2021['Urban_or_Rural_Area'].value_counts()"
   ]
  },
  {
   "cell_type": "markdown",
   "id": "8d4ca190-ae18-4040-aa9b-a353f0976217",
   "metadata": {},
   "source": [
    "<h2> Insight 6</h2>\n",
    "\n",
    "<h4> The area that has more accidents is the Urban area with a 104538 accidents making up 63.91% of the total accidents in 2021 </h4>\n",
    "\n",
    "<p>━━━━━━━━━━━━━━━━━━━━━━━━━━━━━━━━━━━━━━━━━━━━━━━━━━━━━━━━━━━━━━━━━━━━━━━━━━━━━━━━━━━━━</p>"
   ]
  },
  {
   "cell_type": "markdown",
   "id": "44d4c8db-3780-4be3-9a76-1ebd64da7e1f",
   "metadata": {},
   "source": [
    "<h1> 7. How many accidents happened in 2021, and what is the most common light conditions to have an accidents?</h1>"
   ]
  },
  {
   "cell_type": "code",
   "execution_count": 30,
   "id": "3f34ac7e-f344-4c96-831d-7819a80a55f3",
   "metadata": {},
   "outputs": [
    {
     "data": {
      "text/plain": [
       "np.int64(163554)"
      ]
     },
     "execution_count": 30,
     "metadata": {},
     "output_type": "execute_result"
    }
   ],
   "source": [
    "accident_2021.value_counts().sum()"
   ]
  },
  {
   "cell_type": "code",
   "execution_count": 31,
   "id": "fe20cdbd-3e0f-4811-b850-91a37ddc6ba2",
   "metadata": {},
   "outputs": [
    {
     "data": {
      "text/plain": [
       "Light_Conditions\n",
       "Daylight                       119518\n",
       "Darkness - lights lit           32549\n",
       "Darkness - no lighting           9226\n",
       "Darkness - lighting unknown      1607\n",
       "Darkness - lights unlit           654\n",
       "Name: count, dtype: int64"
      ]
     },
     "execution_count": 31,
     "metadata": {},
     "output_type": "execute_result"
    }
   ],
   "source": [
    "accident_2021['Light_Conditions'].value_counts()"
   ]
  },
  {
   "cell_type": "markdown",
   "id": "95dc572e-36b8-4962-8e23-b74cc5a839df",
   "metadata": {},
   "source": [
    "<h2> Insight 7</h2>\n",
    "\n",
    "<h4> There are a total of 163554 accidents that happened in the year 2021, and the light condition to has more accidents is \"Daylight\" making up 73.07% of the total accidents. </h4>\n",
    "\n",
    "<p>━━━━━━━━━━━━━━━━━━━━━━━━━━━━━━━━━━━━━━━━━━━━━━━━━━━━━━━━━━━━━━━━━━━━━━━━━━━━━━━━━━━━━</p>"
   ]
  },
  {
   "cell_type": "markdown",
   "id": "a874d756-7f52-405d-918d-581788586209",
   "metadata": {},
   "source": [
    "<h2> Analysis From 2022 </h2>"
   ]
  },
  {
   "cell_type": "markdown",
   "id": "1d6fa1c7-1fe8-46a4-9479-2e4950972461",
   "metadata": {},
   "source": [
    "<h1> 8. What is the most common Accident Severity?</h1>"
   ]
  },
  {
   "cell_type": "code",
   "execution_count": 32,
   "id": "4aabdcd4-0f0a-4de6-a734-60f230197062",
   "metadata": {},
   "outputs": [
    {
     "data": {
      "text/plain": [
       "Accident_Severity\n",
       "Slight     124093\n",
       "Serious     18777\n",
       "Fatal        1549\n",
       "Name: count, dtype: int64"
      ]
     },
     "execution_count": 32,
     "metadata": {},
     "output_type": "execute_result"
    }
   ],
   "source": [
    "accident_2022['Accident_Severity'].value_counts()"
   ]
  },
  {
   "cell_type": "markdown",
   "id": "f7215cbb-fe3e-47d5-9b7c-862ea9c61ab3",
   "metadata": {
    "jp-MarkdownHeadingCollapsed": true
   },
   "source": [
    "<h2> Insight 8</h2>\n",
    "\n",
    "<h4> The most common accident severity is \"Slight\" with a total of 124093, making up the 85.92% of the total accidents in 2022 </h4>\n",
    "\n",
    "<p>━━━━━━━━━━━━━━━━━━━━━━━━━━━━━━━━━━━━━━━━━━━━━━━━━━━━━━━━━━━━━━━━━━━━━━━━━━━━━━━━━━━━━</p>"
   ]
  },
  {
   "cell_type": "markdown",
   "id": "c7d18cc0-7fc0-4ad1-b5d8-c84a0dd3977d",
   "metadata": {},
   "source": [
    "<h1> 9. What is the top 3 District Area That Has The Most Accidents </h1>"
   ]
  },
  {
   "cell_type": "code",
   "execution_count": 33,
   "id": "bf9a454e-254d-4b21-bc46-4a21b17114cf",
   "metadata": {},
   "outputs": [
    {
     "data": {
      "text/plain": [
       "District Area\n",
       "Birmingham       2876\n",
       "Leeds            1954\n",
       "Bradford         1439\n",
       "Manchester       1425\n",
       "Westminster      1421\n",
       "                 ... \n",
       "Tynedale            0\n",
       "Wansbeck            0\n",
       "Vale Royal          0\n",
       "Aberdeenshire       0\n",
       "Aberdeen City       0\n",
       "Name: count, Length: 422, dtype: int64"
      ]
     },
     "execution_count": 33,
     "metadata": {},
     "output_type": "execute_result"
    }
   ],
   "source": [
    "accident_2022['District Area'].value_counts()"
   ]
  },
  {
   "cell_type": "code",
   "execution_count": 34,
   "id": "c4c3aa85-d139-497f-a3dd-835423253b41",
   "metadata": {},
   "outputs": [
    {
     "data": {
      "text/plain": [
       "count         144419\n",
       "unique           354\n",
       "top       Birmingham\n",
       "freq            2876\n",
       "Name: District Area, dtype: object"
      ]
     },
     "execution_count": 34,
     "metadata": {},
     "output_type": "execute_result"
    }
   ],
   "source": [
    "accident_2022['District Area'].describe()"
   ]
  },
  {
   "cell_type": "markdown",
   "id": "d40ba0e6-eac3-4465-aab2-1e782b862c69",
   "metadata": {},
   "source": [
    "<h2> Insight 9</h2>\n",
    "\n",
    "<h4> The Top 3 District Area That has the most accidents are Birminghan, Leeds, and Bradford. With Birminghan having the highest with 2876 accidents, then Leeds with 1954, and last is Bradford with 1439 </h4>\n",
    "\n",
    "<p>━━━━━━━━━━━━━━━━━━━━━━━━━━━━━━━━━━━━━━━━━━━━━━━━━━━━━━━━━━━━━━━━━━━━━━━━━━━━━━━━━━━━━</p>"
   ]
  },
  {
   "cell_type": "markdown",
   "id": "e9a827b2-0771-4e72-af5d-46507f1e86da",
   "metadata": {},
   "source": [
    "<h2> Overall Analysis </h2>"
   ]
  },
  {
   "cell_type": "markdown",
   "id": "d8579e60-12b9-4ff0-b27a-f158551957f6",
   "metadata": {},
   "source": [
    "<h1> 10. What type of vehicle has more accidents? </h1>"
   ]
  },
  {
   "cell_type": "code",
   "execution_count": 35,
   "id": "42a97a6a-5d13-4f4b-a481-4da5b310defd",
   "metadata": {},
   "outputs": [
    {
     "data": {
      "text/plain": [
       "Vehicle_Type\n",
       "Car                                      497992\n",
       "Van / Goods 3.5 tonnes mgw or under       34160\n",
       "Bus or coach (17 or more pass seats)      25878\n",
       "Motorcycle over 500cc                     25657\n",
       "Goods 7.5 tonnes mgw and over             17307\n",
       "Motorcycle 125cc and under                15269\n",
       "Taxi/Private hire car                     13294\n",
       "Motorcycle over 125cc and up to 500cc      7656\n",
       "Motorcycle 50cc and under                  7603\n",
       "Goods over 3.5t. and under 7.5t            6096\n",
       "Other vehicle                              5637\n",
       "Minibus (8 - 16 passenger seats)           1976\n",
       "Agricultural vehicle                       1947\n",
       "Pedal cycle                                 197\n",
       "Data missing or out of range                  6\n",
       "Ridden horse                                  4\n",
       "Name: count, dtype: int64"
      ]
     },
     "execution_count": 35,
     "metadata": {},
     "output_type": "execute_result"
    }
   ],
   "source": [
    "accident['Vehicle_Type'].value_counts()"
   ]
  },
  {
   "cell_type": "markdown",
   "id": "81028425-876e-4729-90ec-1e70a1c826e2",
   "metadata": {},
   "source": [
    "<h2> Insight 10 </h2>\n",
    "\n",
    "<h4> The type of vehicle that has more accidents is a Car with a 497992 accidents accounting for 75.28% of the total accidents. </h4>"
   ]
  },
  {
   "cell_type": "markdown",
   "id": "3303871e-91c2-4250-94ed-813e68d4bc21",
   "metadata": {},
   "source": [
    "<p>━━━━━━━━━━━━━━━━━━━━━━━━━━━━━━━━━━━━━━━━━━━━━━━━━━━━━━━━━━━━━━━━━━━━━━━━━━━━━━━━━━━━━</p>"
   ]
  },
  {
   "cell_type": "markdown",
   "id": "38cd03b0-3da7-4bd3-9a39-b3bcad7d90fd",
   "metadata": {},
   "source": [
    "<h1> 11. Which year has the most accidents? </h1>"
   ]
  },
  {
   "cell_type": "code",
   "execution_count": 36,
   "id": "489ad269-0abd-4d30-9cbe-c59aaa7baacf",
   "metadata": {
    "scrolled": true
   },
   "outputs": [
    {
     "data": {
      "text/plain": [
       "Year\n",
       "2019    182115\n",
       "2020    170591\n",
       "2021    163554\n",
       "2022    144419\n",
       "Name: count, dtype: int64"
      ]
     },
     "execution_count": 36,
     "metadata": {},
     "output_type": "execute_result"
    }
   ],
   "source": [
    "accident['Year'].value_counts()"
   ]
  },
  {
   "cell_type": "markdown",
   "id": "4098b2e9-a66e-4cda-967c-c26fbc10cfb6",
   "metadata": {},
   "source": [
    "<h2> Insight 11 </h2>\n",
    "\n",
    "<h4> The year that has the most accidents is 2019 with 182115 accidents, representing 27.56% of the total accidents. </h4>"
   ]
  },
  {
   "cell_type": "markdown",
   "id": "ffca5f16-c240-47d1-8d91-cb3f4ba64de9",
   "metadata": {},
   "source": [
    "<p>━━━━━━━━━━━━━━━━━━━━━━━━━━━━━━━━━━━━━━━━━━━━━━━━━━━━━━━━━━━━━━━━━━━━━━━━━━━━━━━━━━━━━</p>"
   ]
  },
  {
   "cell_type": "markdown",
   "id": "0ba65964-cb14-4677-b716-fb036471a2b7",
   "metadata": {},
   "source": [
    "<h1> 12. Does the number of vehicles has an effect to the number of casualties? </h1>"
   ]
  },
  {
   "cell_type": "code",
   "execution_count": 37,
   "id": "d8e636af-fed2-4b70-b435-77f1e546bb36",
   "metadata": {},
   "outputs": [],
   "source": [
    "accident_NC_NV = accident['Number_of_Vehicles'].corr(accident['Number_of_Casualties'])"
   ]
  },
  {
   "cell_type": "code",
   "execution_count": 38,
   "id": "84541b4b-5e3d-4abf-98bb-e0ed67eacf80",
   "metadata": {},
   "outputs": [
    {
     "name": "stdout",
     "output_type": "stream",
     "text": [
      "0.22888886126927627\n"
     ]
    }
   ],
   "source": [
    "print(accident_NC_NV)"
   ]
  },
  {
   "cell_type": "markdown",
   "id": "8f4dc59e-8c67-4db2-acea-8d1fec2f492d",
   "metadata": {},
   "source": [
    "<h2> Insight 12 </h2>\n",
    "\n",
    "<h4> There are no correlation in the number of vehicles to the number of casualties  </h4>\n",
    "\n",
    "<p>━━━━━━━━━━━━━━━━━━━━━━━━━━━━━━━━━━━━━━━━━━━━━━━━━━━━━━━━━━━━━━━━━━━━━━━━━━━━━━━━━━━━━</p>"
   ]
  },
  {
   "cell_type": "markdown",
   "id": "ebe00386-d267-4718-9362-90c5b6981ddd",
   "metadata": {},
   "source": [
    "<h1> 13. What is the most average road surface type to have an accident?"
   ]
  },
  {
   "cell_type": "code",
   "execution_count": 60,
   "id": "0cd16212-9eb1-4f4c-9926-0bc1e0e88c8b",
   "metadata": {},
   "outputs": [
    {
     "data": {
      "text/plain": [
       "Road_Surface_Conditions\n",
       "Dry                          1.841792\n",
       "Flood over 3cm. deep         1.610619\n",
       "Frost or ice                 1.640006\n",
       "Snow                         1.746859\n",
       "Wet or damp                  1.829161\n",
       "unknown surface condition    1.742424\n",
       "Name: Number_of_Vehicles, dtype: float64"
      ]
     },
     "execution_count": 60,
     "metadata": {},
     "output_type": "execute_result"
    }
   ],
   "source": [
    "avg_vehicles_by_surface = accident.groupby('Road_Surface_Conditions')['Number_of_Vehicles'].mean()\n",
    "avg_vehicles_by_surface"
   ]
  },
  {
   "cell_type": "markdown",
   "id": "63140a05-985e-4f5a-9b8c-f6b16cb6f1b9",
   "metadata": {},
   "source": [
    "<h2> Insight 13 </h2>\n",
    "\n",
    "<h4> Although dry and wet road conditions are typically considered safer, they show the highest average number of vehicles per accident. This may indicate that under familiar conditions, drivers are more likely to take risks  </h4>\n",
    "\n",
    "<p>━━━━━━━━━━━━━━━━━━━━━━━━━━━━━━━━━━━━━━━━━━━━━━━━━━━━━━━━━━━━━━━━━━━━━━━━━━━━━━━━━━━━━</p>"
   ]
  },
  {
   "cell_type": "markdown",
   "id": "40a905e7-3330-405a-9783-c83e4f5540ee",
   "metadata": {},
   "source": [
    "<h1> 14. Which month has the highest or most common to have an accident?"
   ]
  },
  {
   "cell_type": "code",
   "execution_count": 63,
   "id": "a658c927-9680-4a81-a19c-3f0e65da872b",
   "metadata": {},
   "outputs": [
    {
     "data": {
      "text/plain": [
       "Month\n",
       "January      52872\n",
       "February     49491\n",
       "March        54086\n",
       "April        51744\n",
       "May          56352\n",
       "June         56481\n",
       "July         57445\n",
       "August       53913\n",
       "September    56455\n",
       "October      59580\n",
       "November     60424\n",
       "December     51836\n",
       "Name: count, dtype: int64"
      ]
     },
     "execution_count": 63,
     "metadata": {},
     "output_type": "execute_result"
    }
   ],
   "source": [
    "accident['Accident Date'] = pd.to_datetime(accident['Accident Date'], dayfirst=True)\n",
    "accident['Month'] = accident['Accident Date'].dt.month\n",
    "accidents_by_month.index = accidents_by_month.index.map(lambda x: calendar.month_name[x])\n",
    "accidents_by_month"
   ]
  },
  {
   "cell_type": "markdown",
   "id": "1474bddc-273a-49d0-95a7-f411e180a02b",
   "metadata": {},
   "source": [
    "<h2> Insight 14 </h2>\n",
    "\n",
    "<h4> Accidents peak in the late autumn and early winter months\" — November (60,424), October (59,580), and July (57,445) recorded the highest number of accidents. This pattern may be influenced by factors like shorter daylight hours, poor weather conditions, and holiday-related travel.  </h4>\n",
    "\n",
    "<p>━━━━━━━━━━━━━━━━━━━━━━━━━━━━━━━━━━━━━━━━━━━━━━━━━━━━━━━━━━━━━━━━━━━━━━━━━━━━━━━━━━━━━</p>"
   ]
  },
  {
   "cell_type": "markdown",
   "id": "b42d7509-0e27-4977-8fac-8b9f531c51ed",
   "metadata": {},
   "source": [
    "<h1> 15. Which district has more fata accident?"
   ]
  },
  {
   "cell_type": "code",
   "execution_count": 50,
   "id": "8a9fc5c9-a2b7-43cf-9e74-06567a156472",
   "metadata": {},
   "outputs": [
    {
     "data": {
      "text/plain": [
       "District Area\n",
       "Birmingham                  105\n",
       "Leeds                        93\n",
       "Highland                     88\n",
       "East Riding of Yorkshire     85\n",
       "Bradford                     71\n",
       "Aberdeenshire                66\n",
       "Powys                        59\n",
       "Doncaster                    56\n",
       "Wakefield                    56\n",
       "Herefordshire, County of     51\n",
       "Name: count, dtype: int64"
      ]
     },
     "execution_count": 50,
     "metadata": {},
     "output_type": "execute_result"
    }
   ],
   "source": [
    "fatal_by_district = accident[accident['Accident_Severity'] == 'Fatal']['District Area'].value_counts().head(10)\n",
    "fatal_by_district"
   ]
  },
  {
   "cell_type": "markdown",
   "id": "51f7d9bd-31fc-4a2b-b467-7c48d8115864",
   "metadata": {},
   "source": [
    "<h2> Insight 15 </h2>\n",
    "\n",
    "<h4> Fatal accidents are not limited to large urban centers.\" While major cities like Birmingham and Leeds top the list in fatal accident counts, several rural or less densely populated areas such as Highland, Powys, and Herefordshire also report high fatality rates. This highlights that rural road conditions, longer emergency response times, and higher speed limits may significantly contribute to accident severity outside cities.  </h4>\n",
    "\n",
    "<p>━━━━━━━━━━━━━━━━━━━━━━━━━━━━━━━━━━━━━━━━━━━━━━━━━━━━━━━━━━━━━━━━━━━━━━━━━━━━━━━━━━━━━</p>"
   ]
  },
  {
   "cell_type": "markdown",
   "id": "33caabab-ddee-4018-97ca-c7d548f1ed07",
   "metadata": {},
   "source": [
    "<h1> 16. Does lighting have on traffic accident fatality rates during nighttime?"
   ]
  },
  {
   "cell_type": "code",
   "execution_count": 64,
   "id": "bae67ec9-aacf-4248-9cfb-05b98e9c2b44",
   "metadata": {},
   "outputs": [
    {
     "data": {
      "text/html": [
       "<div>\n",
       "<style scoped>\n",
       "    .dataframe tbody tr th:only-of-type {\n",
       "        vertical-align: middle;\n",
       "    }\n",
       "\n",
       "    .dataframe tbody tr th {\n",
       "        vertical-align: top;\n",
       "    }\n",
       "\n",
       "    .dataframe thead th {\n",
       "        text-align: right;\n",
       "    }\n",
       "</style>\n",
       "<table border=\"1\" class=\"dataframe\">\n",
       "  <thead>\n",
       "    <tr style=\"text-align: right;\">\n",
       "      <th></th>\n",
       "      <th>Total Accidents</th>\n",
       "      <th>Fatal Accidents</th>\n",
       "      <th>Fatality Rate (%)</th>\n",
       "    </tr>\n",
       "    <tr>\n",
       "      <th>Light_Conditions</th>\n",
       "      <th></th>\n",
       "      <th></th>\n",
       "      <th></th>\n",
       "    </tr>\n",
       "  </thead>\n",
       "  <tbody>\n",
       "    <tr>\n",
       "      <th>Darkness - no lighting</th>\n",
       "      <td>37437</td>\n",
       "      <td>1612</td>\n",
       "      <td>4.305901</td>\n",
       "    </tr>\n",
       "    <tr>\n",
       "      <th>Darkness - lights unlit</th>\n",
       "      <td>2543</td>\n",
       "      <td>45</td>\n",
       "      <td>1.769564</td>\n",
       "    </tr>\n",
       "    <tr>\n",
       "      <th>Darkness - lights lit</th>\n",
       "      <td>129335</td>\n",
       "      <td>1860</td>\n",
       "      <td>1.438126</td>\n",
       "    </tr>\n",
       "    <tr>\n",
       "      <th>Darkness - lighting unknown</th>\n",
       "      <td>6484</td>\n",
       "      <td>68</td>\n",
       "      <td>1.048735</td>\n",
       "    </tr>\n",
       "    <tr>\n",
       "      <th>Daylight</th>\n",
       "      <td>484880</td>\n",
       "      <td>5076</td>\n",
       "      <td>1.046857</td>\n",
       "    </tr>\n",
       "  </tbody>\n",
       "</table>\n",
       "</div>"
      ],
      "text/plain": [
       "                             Total Accidents  Fatal Accidents  \\\n",
       "Light_Conditions                                                \n",
       "Darkness - no lighting                 37437             1612   \n",
       "Darkness - lights unlit                 2543               45   \n",
       "Darkness - lights lit                 129335             1860   \n",
       "Darkness - lighting unknown             6484               68   \n",
       "Daylight                              484880             5076   \n",
       "\n",
       "                             Fatality Rate (%)  \n",
       "Light_Conditions                                \n",
       "Darkness - no lighting                4.305901  \n",
       "Darkness - lights unlit               1.769564  \n",
       "Darkness - lights lit                 1.438126  \n",
       "Darkness - lighting unknown           1.048735  \n",
       "Daylight                              1.046857  "
      ]
     },
     "execution_count": 64,
     "metadata": {},
     "output_type": "execute_result"
    }
   ],
   "source": [
    "light_condition_counts = accident['Light_Conditions'].value_counts()\n",
    "fatal_by_light = accident[accident['Accident_Severity'] == 'Fatal']['Light_Conditions'].value_counts()\n",
    "\n",
    "light_severity_rate = pd.DataFrame({\n",
    "    'Total Accidents': light_condition_counts,\n",
    "    'Fatal Accidents': fatal_by_light\n",
    "})\n",
    "\n",
    "light_severity_rate['Fatality Rate (%)'] = (light_severity_rate['Fatal Accidents'] / light_severity_rate['Total Accidents']) * 100\n",
    "light_severity_rate = light_severity_rate.sort_values(by='Fatality Rate (%)', ascending=False)\n",
    "light_severity_rate"
   ]
  },
  {
   "cell_type": "markdown",
   "id": "ba3c62c7-e5c2-4276-9d68-bccff9417144",
   "metadata": {},
   "source": [
    "<h2> Insight 16 </h2>\n",
    "\n",
    "<h4> Despite accounting for a smaller portion of total accidents, areas with no lighting during darkness have the highest fatality rate at 4.31% over four times higher than in daylight (1.05%). Even in cases where street lights are present but unlit, the fatality rate remains significantly elevated at 1.77%. This suggests that poor visibility and lack of proper lighting at night are major contributors to fatal accident severity.  </h4>\n",
    "\n",
    "<p>━━━━━━━━━━━━━━━━━━━━━━━━━━━━━━━━━━━━━━━━━━━━━━━━━━━━━━━━━━━━━━━━━━━━━━━━━━━━━━━━━━━━━</p>"
   ]
  },
  {
   "cell_type": "markdown",
   "id": "93f0df8f-954e-4b5a-b0cd-46a4e9add142",
   "metadata": {},
   "source": [
    "<h1> 17. Does the presence or absence of lighting during darkness impact the average number of casualties in traffic accidents?"
   ]
  },
  {
   "cell_type": "code",
   "execution_count": 59,
   "id": "05131c02-75fe-4378-b210-5979b15c263a",
   "metadata": {},
   "outputs": [
    {
     "data": {
      "text/plain": [
       "Light_Conditions\n",
       "Darkness - no lighting         1.541657\n",
       "Darkness - lights lit          1.369374\n",
       "Daylight                       1.340309\n",
       "Darkness - lights unlit        1.331105\n",
       "Darkness - lighting unknown    1.306447\n",
       "Name: Number_of_Casualties, dtype: float64"
      ]
     },
     "execution_count": 59,
     "metadata": {},
     "output_type": "execute_result"
    }
   ],
   "source": [
    "avg_casualties_by_light = accident.groupby('Light_Conditions')['Number_of_Casualties'].mean().sort_values(ascending=False)\n",
    "avg_casualties_by_light"
   ]
  },
  {
   "cell_type": "markdown",
   "id": "e29e2ac4-0538-4071-8149-4231bef08132",
   "metadata": {},
   "source": [
    "<h2> Insight 17 </h2>\n",
    "\n",
    "<h4> The average number of casualties per accident is highest in areas with no lighting during darkness, with a mean of 1.54 casualties. While areas with lit street lights still have a relatively high average of 1.37 casualties, the average decreases in daylight  </h4>\n",
    "\n",
    "<p>━━━━━━━━━━━━━━━━━━━━━━━━━━━━━━━━━━━━━━━━━━━━━━━━━━━━━━━━━━━━━━━━━━━━━━━━━━━━━━━━━━━━━</p>"
   ]
  },
  {
   "cell_type": "markdown",
   "id": "5a4ff434-db60-4e70-9126-93db2a5764b7",
   "metadata": {},
   "source": [
    "<h1> 18. Which area tend to have more fatal accidents between urban and rural?"
   ]
  },
  {
   "cell_type": "code",
   "execution_count": 54,
   "id": "db2f3e78-565e-4af1-8856-62d4748d74d7",
   "metadata": {},
   "outputs": [
    {
     "data": {
      "text/plain": [
       "Urban_or_Rural_Area\n",
       "Rural          5601\n",
       "Urban          3060\n",
       "Unallocated       0\n",
       "Name: count, dtype: int64"
      ]
     },
     "execution_count": 54,
     "metadata": {},
     "output_type": "execute_result"
    }
   ],
   "source": [
    "fatal_urban_rural = accident[accident['Accident_Severity'] == 'Fatal']['Urban_or_Rural_Area'].value_counts()\n",
    "fatal_urban_rural"
   ]
  },
  {
   "cell_type": "markdown",
   "id": "fd86d38f-ccb1-4dfe-ac78-1ae091103fbb",
   "metadata": {},
   "source": [
    "<h2> Insight 18 </h2>\n",
    "\n",
    "<h4> Fatal accidents are significantly more common in rural areas, with 5,601 fatal accidents occurring compared to 3,060 in urban areas. This suggests that rural areas may have higher risk factors contributing to fatal accidents, such as less infrastructure, lower traffic volume, or longer emergency response times.  </h4>\n",
    "\n",
    "<p>━━━━━━━━━━━━━━━━━━━━━━━━━━━━━━━━━━━━━━━━━━━━━━━━━━━━━━━━━━━━━━━━━━━━━━━━━━━━━━━━━━━━━</p>"
   ]
  },
  {
   "cell_type": "markdown",
   "id": "d5729354-d644-4aa3-87e9-894fd29ae01f",
   "metadata": {},
   "source": [
    "<h1> 19. How does the number of vehicles involved in an accident affect the frequency of traffic accidents?"
   ]
  },
  {
   "cell_type": "code",
   "execution_count": 55,
   "id": "b09cb0ac-b3dd-4ac0-89d3-5f7e51d2dfd1",
   "metadata": {},
   "outputs": [
    {
     "data": {
      "text/plain": [
       "Number_of_Vehicles\n",
       "1     200787\n",
       "2     391995\n",
       "3      52806\n",
       "4      11300\n",
       "5       2464\n",
       "6        758\n",
       "7        296\n",
       "8        147\n",
       "9         57\n",
       "10        27\n",
       "11        12\n",
       "12         7\n",
       "13         6\n",
       "14         9\n",
       "15         1\n",
       "16         4\n",
       "19         1\n",
       "28         1\n",
       "32         1\n",
       "Name: count, dtype: int64"
      ]
     },
     "execution_count": 55,
     "metadata": {},
     "output_type": "execute_result"
    }
   ],
   "source": [
    "accidents_by_vehicle_count = accident['Number_of_Vehicles'].value_counts().sort_index()\n",
    "accidents_by_vehicle_count"
   ]
  },
  {
   "cell_type": "markdown",
   "id": "43e13879-0c3c-4981-96cc-1c40b2b713b5",
   "metadata": {},
   "source": [
    "<h2> Insight 19 </h2>\n",
    "\n",
    "<h4> The majority of accidents involve just one or two vehicles, with 200,787 accidents involving one vehicle and 391,995 accidents involving two vehicles. As the number of vehicles involved increases, the frequency of accidents decreases significantly. This indicates that most accidents are relatively low in complexity, involving a single vehicle or a pair of vehicles, while accidents involving higher numbers of vehicles are much less common.  </h4>\n",
    "\n",
    "<p>━━━━━━━━━━━━━━━━━━━━━━━━━━━━━━━━━━━━━━━━━━━━━━━━━━━━━━━━━━━━━━━━━━━━━━━━━━━━━━━━━━━━━</p>"
   ]
  },
  {
   "cell_type": "markdown",
   "id": "3cb9f52b-31d4-4a96-95b4-0aa964d7ec55",
   "metadata": {},
   "source": [
    "<h1> 20. How do different weather conditions impact the average number of casualties in traffic accidents?"
   ]
  },
  {
   "cell_type": "code",
   "execution_count": 58,
   "id": "ae6c4c47-1cd4-4a6b-bb1a-6de405220380",
   "metadata": {},
   "outputs": [
    {
     "data": {
      "text/plain": [
       "Weather_Conditions\n",
       "Fog or mist                      1.452948\n",
       "Snowing + high winds             1.418079\n",
       "Raining + high winds             1.416641\n",
       "Raining no high winds            1.408214\n",
       "Fine + high winds                1.386018\n",
       "Other                            1.354869\n",
       "Fine no high winds               1.350480\n",
       "Snowing no high winds            1.341776\n",
       "unaccounted weather condition    1.233720\n",
       "Name: Number_of_Casualties, dtype: float64"
      ]
     },
     "execution_count": 58,
     "metadata": {},
     "output_type": "execute_result"
    }
   ],
   "source": [
    "avg_casualties_by_weather = accident.groupby('Weather_Conditions')['Number_of_Casualties'].mean().sort_values(ascending=False)\n",
    "avg_casualties_by_weather"
   ]
  },
  {
   "cell_type": "markdown",
   "id": "ef406148-ff80-46f2-b711-0ab8bdf0bbf0",
   "metadata": {},
   "source": [
    "<h2> Insight 20 </h2>\n",
    "\n",
    "<h4> Accidents that occur in fog or mist conditions have the highest average number of casualties per accident (1.45), followed closely by accidents during snowing with high winds (1.42) and raining with high winds (1.42). Weather conditions involving high winds generally seem to result in higher casualty rates, regardless of whether it’s raining or snowing. On the other hand, fine weather conditions, with or without high winds, have the lowest average number of casualties, suggesting that severe weather conditions are a major factor in accident severity.  </h4>\n",
    "\n",
    "<p>━━━━━━━━━━━━━━━━━━━━━━━━━━━━━━━━━━━━━━━━━━━━━━━━━━━━━━━━━━━━━━━━━━━━━━━━━━━━━━━━━━━━━</p>"
   ]
  }
 ],
 "metadata": {
  "kernelspec": {
   "display_name": "Python 3 (ipykernel)",
   "language": "python",
   "name": "python3"
  },
  "language_info": {
   "codemirror_mode": {
    "name": "ipython",
    "version": 3
   },
   "file_extension": ".py",
   "mimetype": "text/x-python",
   "name": "python",
   "nbconvert_exporter": "python",
   "pygments_lexer": "ipython3",
   "version": "3.13.2"
  }
 },
 "nbformat": 4,
 "nbformat_minor": 5
}
